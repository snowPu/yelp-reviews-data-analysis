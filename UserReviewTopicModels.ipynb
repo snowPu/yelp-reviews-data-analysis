{
 "cells": [
  {
   "cell_type": "code",
   "execution_count": 1,
   "metadata": {},
   "outputs": [
    {
     "name": "stderr",
     "output_type": "stream",
     "text": [
      "C:\\Users\\sukan\\Anaconda3\\lib\\site-packages\\h5py\\__init__.py:34: FutureWarning: Conversion of the second argument of issubdtype from `float` to `np.floating` is deprecated. In future, it will be treated as `np.float64 == np.dtype(float).type`.\n",
      "  from ._conv import register_converters as _register_converters\n"
     ]
    }
   ],
   "source": [
    "import pandas as pd\n",
    "from pandas import DataFrame\n",
    "from pandas import Series\n",
    "import numpy as np\n",
    "import h5py\n",
    "from ast import literal_eval\n",
    "import time\n",
    "import json\n",
    "import pickle\n",
    "import matplotlib.pyplot as plt"
   ]
  },
  {
   "cell_type": "code",
   "execution_count": 48,
   "metadata": {
    "collapsed": true
   },
   "outputs": [],
   "source": [
    "from nltk import word_tokenize\n",
    "from nltk.tokenize import RegexpTokenizer\n",
    "from nltk.stem import WordNetLemmatizer\n",
    "from sklearn.feature_extraction.text import ENGLISH_STOP_WORDS\n",
    "import string"
   ]
  },
  {
   "cell_type": "code",
   "execution_count": 52,
   "metadata": {
    "collapsed": true
   },
   "outputs": [],
   "source": [
    "from sklearn.feature_extraction.text import CountVectorizer\n",
    "from sklearn.decomposition import LatentDirichletAllocation"
   ]
  },
  {
   "cell_type": "code",
   "execution_count": 50,
   "metadata": {},
   "outputs": [
    {
     "name": "stderr",
     "output_type": "stream",
     "text": [
      "C:\\Users\\sukan\\Anaconda3\\lib\\site-packages\\gensim\\utils.py:1209: UserWarning: detected Windows; aliasing chunkize to chunkize_serial\n",
      "  warnings.warn(\"detected Windows; aliasing chunkize to chunkize_serial\")\n"
     ]
    }
   ],
   "source": [
    "from gensim import models, matutils"
   ]
  },
  {
   "cell_type": "code",
   "execution_count": 2,
   "metadata": {
    "collapsed": true
   },
   "outputs": [],
   "source": [
    "# Open file containing list of all restaurant business IDs\n",
    "\n",
    "with open('C:/Users/sukan/Documents/TUM/Courses/Winter 2018/Data Mining Praktikum/Yelp/restaurant_ids.pkl', 'rb') as f:\n",
    "    restaurant_ids = pickle.load(f)\n",
    "f.close()"
   ]
  },
  {
   "cell_type": "code",
   "execution_count": 3,
   "metadata": {
    "collapsed": true
   },
   "outputs": [],
   "source": [
    "# Open Reviews File\n",
    "\n",
    "with open('C:/Users/sukan/Documents/TUM/Courses/Winter 2018/Data Mining Praktikum/Yelp/dataset/yelp_dataset/yelp_academic_dataset_review.json', encoding=\"utf8\") as json_file:      \n",
    "    data = json_file.readlines()\n",
    "    # this line below may take at least 8-10 minutes of processing for 4-5 million rows. It converts all strings in list to actual json objects. \n",
    "    data = list(map(json.loads, data)) \n",
    "    \n",
    "review_data = pd.DataFrame(data)\n",
    "json_file.close()"
   ]
  },
  {
   "cell_type": "code",
   "execution_count": 4,
   "metadata": {
    "collapsed": true
   },
   "outputs": [],
   "source": [
    "# Extract only reviews of restaurants\n",
    "\n",
    "restuarant_review_data = review_data.loc[review_data['business_id'].isin(restaurant_ids)]"
   ]
  },
  {
   "cell_type": "code",
   "execution_count": 6,
   "metadata": {},
   "outputs": [
    {
     "data": {
      "text/html": [
       "<div>\n",
       "<style scoped>\n",
       "    .dataframe tbody tr th:only-of-type {\n",
       "        vertical-align: middle;\n",
       "    }\n",
       "\n",
       "    .dataframe tbody tr th {\n",
       "        vertical-align: top;\n",
       "    }\n",
       "\n",
       "    .dataframe thead th {\n",
       "        text-align: right;\n",
       "    }\n",
       "</style>\n",
       "<table border=\"1\" class=\"dataframe\">\n",
       "  <thead>\n",
       "    <tr style=\"text-align: right;\">\n",
       "      <th></th>\n",
       "      <th>index</th>\n",
       "      <th>business_id</th>\n",
       "      <th>cool</th>\n",
       "      <th>date</th>\n",
       "      <th>funny</th>\n",
       "      <th>review_id</th>\n",
       "      <th>stars</th>\n",
       "      <th>text</th>\n",
       "      <th>useful</th>\n",
       "      <th>user_id</th>\n",
       "    </tr>\n",
       "  </thead>\n",
       "  <tbody>\n",
       "    <tr>\n",
       "      <th>0</th>\n",
       "      <td>0</td>\n",
       "      <td>iCQpiavjjPzJ5_3gPD5Ebg</td>\n",
       "      <td>0</td>\n",
       "      <td>2011-02-25</td>\n",
       "      <td>0</td>\n",
       "      <td>x7mDIiDB3jEiPGPHOmDzyw</td>\n",
       "      <td>2</td>\n",
       "      <td>The pizza was okay. Not the best I've had. I p...</td>\n",
       "      <td>0</td>\n",
       "      <td>msQe1u7Z_XuqjGoqhB0J5g</td>\n",
       "    </tr>\n",
       "    <tr>\n",
       "      <th>1</th>\n",
       "      <td>1</td>\n",
       "      <td>pomGBqfbxcqPv14c3XH-ZQ</td>\n",
       "      <td>0</td>\n",
       "      <td>2012-11-13</td>\n",
       "      <td>0</td>\n",
       "      <td>dDl8zu1vWPdKGihJrwQbpw</td>\n",
       "      <td>5</td>\n",
       "      <td>I love this place! My fiance And I go here atl...</td>\n",
       "      <td>0</td>\n",
       "      <td>msQe1u7Z_XuqjGoqhB0J5g</td>\n",
       "    </tr>\n",
       "    <tr>\n",
       "      <th>2</th>\n",
       "      <td>2</td>\n",
       "      <td>jtQARsP6P-LbkyjbO1qNGg</td>\n",
       "      <td>1</td>\n",
       "      <td>2014-10-23</td>\n",
       "      <td>1</td>\n",
       "      <td>LZp4UX5zK3e-c5ZGSeo3kA</td>\n",
       "      <td>1</td>\n",
       "      <td>Terrible. Dry corn bread. Rib tips were all fa...</td>\n",
       "      <td>3</td>\n",
       "      <td>msQe1u7Z_XuqjGoqhB0J5g</td>\n",
       "    </tr>\n",
       "    <tr>\n",
       "      <th>3</th>\n",
       "      <td>3</td>\n",
       "      <td>elqbBhBfElMNSrjFqW3now</td>\n",
       "      <td>0</td>\n",
       "      <td>2011-02-25</td>\n",
       "      <td>0</td>\n",
       "      <td>Er4NBWCmCD4nM8_p1GRdow</td>\n",
       "      <td>2</td>\n",
       "      <td>Back in 2005-2007 this place was my FAVORITE t...</td>\n",
       "      <td>2</td>\n",
       "      <td>msQe1u7Z_XuqjGoqhB0J5g</td>\n",
       "    </tr>\n",
       "    <tr>\n",
       "      <th>4</th>\n",
       "      <td>4</td>\n",
       "      <td>Ums3gaP2qM3W1XcA5r6SsQ</td>\n",
       "      <td>0</td>\n",
       "      <td>2014-09-05</td>\n",
       "      <td>0</td>\n",
       "      <td>jsDu6QEJHbwP2Blom1PLCA</td>\n",
       "      <td>5</td>\n",
       "      <td>Delicious healthy food. The steak is amazing. ...</td>\n",
       "      <td>0</td>\n",
       "      <td>msQe1u7Z_XuqjGoqhB0J5g</td>\n",
       "    </tr>\n",
       "  </tbody>\n",
       "</table>\n",
       "</div>"
      ],
      "text/plain": [
       "   index             business_id  cool        date  funny  \\\n",
       "0      0  iCQpiavjjPzJ5_3gPD5Ebg     0  2011-02-25      0   \n",
       "1      1  pomGBqfbxcqPv14c3XH-ZQ     0  2012-11-13      0   \n",
       "2      2  jtQARsP6P-LbkyjbO1qNGg     1  2014-10-23      1   \n",
       "3      3  elqbBhBfElMNSrjFqW3now     0  2011-02-25      0   \n",
       "4      4  Ums3gaP2qM3W1XcA5r6SsQ     0  2014-09-05      0   \n",
       "\n",
       "                review_id  stars  \\\n",
       "0  x7mDIiDB3jEiPGPHOmDzyw      2   \n",
       "1  dDl8zu1vWPdKGihJrwQbpw      5   \n",
       "2  LZp4UX5zK3e-c5ZGSeo3kA      1   \n",
       "3  Er4NBWCmCD4nM8_p1GRdow      2   \n",
       "4  jsDu6QEJHbwP2Blom1PLCA      5   \n",
       "\n",
       "                                                text  useful  \\\n",
       "0  The pizza was okay. Not the best I've had. I p...       0   \n",
       "1  I love this place! My fiance And I go here atl...       0   \n",
       "2  Terrible. Dry corn bread. Rib tips were all fa...       3   \n",
       "3  Back in 2005-2007 this place was my FAVORITE t...       2   \n",
       "4  Delicious healthy food. The steak is amazing. ...       0   \n",
       "\n",
       "                  user_id  \n",
       "0  msQe1u7Z_XuqjGoqhB0J5g  \n",
       "1  msQe1u7Z_XuqjGoqhB0J5g  \n",
       "2  msQe1u7Z_XuqjGoqhB0J5g  \n",
       "3  msQe1u7Z_XuqjGoqhB0J5g  \n",
       "4  msQe1u7Z_XuqjGoqhB0J5g  "
      ]
     },
     "execution_count": 6,
     "metadata": {},
     "output_type": "execute_result"
    }
   ],
   "source": [
    "restuarant_review_data.head()"
   ]
  },
  {
   "cell_type": "code",
   "execution_count": 5,
   "metadata": {
    "collapsed": true
   },
   "outputs": [],
   "source": [
    "# Reset index of restuarant_review_data\n",
    "\n",
    "restuarant_review_data = restuarant_review_data.reset_index()"
   ]
  },
  {
   "cell_type": "code",
   "execution_count": 11,
   "metadata": {},
   "outputs": [
    {
     "data": {
      "text/html": [
       "<div>\n",
       "<style scoped>\n",
       "    .dataframe tbody tr th:only-of-type {\n",
       "        vertical-align: middle;\n",
       "    }\n",
       "\n",
       "    .dataframe tbody tr th {\n",
       "        vertical-align: top;\n",
       "    }\n",
       "\n",
       "    .dataframe thead th {\n",
       "        text-align: right;\n",
       "    }\n",
       "</style>\n",
       "<table border=\"1\" class=\"dataframe\">\n",
       "  <thead>\n",
       "    <tr style=\"text-align: right;\">\n",
       "      <th></th>\n",
       "      <th>index</th>\n",
       "      <th>business_id</th>\n",
       "      <th>cool</th>\n",
       "      <th>date</th>\n",
       "      <th>funny</th>\n",
       "      <th>review_id</th>\n",
       "      <th>stars</th>\n",
       "      <th>text</th>\n",
       "      <th>useful</th>\n",
       "      <th>user_id</th>\n",
       "    </tr>\n",
       "  </thead>\n",
       "  <tbody>\n",
       "    <tr>\n",
       "      <th>0</th>\n",
       "      <td>0</td>\n",
       "      <td>iCQpiavjjPzJ5_3gPD5Ebg</td>\n",
       "      <td>0</td>\n",
       "      <td>2011-02-25</td>\n",
       "      <td>0</td>\n",
       "      <td>x7mDIiDB3jEiPGPHOmDzyw</td>\n",
       "      <td>2</td>\n",
       "      <td>The pizza was okay. Not the best I've had. I p...</td>\n",
       "      <td>0</td>\n",
       "      <td>msQe1u7Z_XuqjGoqhB0J5g</td>\n",
       "    </tr>\n",
       "    <tr>\n",
       "      <th>1</th>\n",
       "      <td>1</td>\n",
       "      <td>pomGBqfbxcqPv14c3XH-ZQ</td>\n",
       "      <td>0</td>\n",
       "      <td>2012-11-13</td>\n",
       "      <td>0</td>\n",
       "      <td>dDl8zu1vWPdKGihJrwQbpw</td>\n",
       "      <td>5</td>\n",
       "      <td>I love this place! My fiance And I go here atl...</td>\n",
       "      <td>0</td>\n",
       "      <td>msQe1u7Z_XuqjGoqhB0J5g</td>\n",
       "    </tr>\n",
       "    <tr>\n",
       "      <th>2</th>\n",
       "      <td>2</td>\n",
       "      <td>jtQARsP6P-LbkyjbO1qNGg</td>\n",
       "      <td>1</td>\n",
       "      <td>2014-10-23</td>\n",
       "      <td>1</td>\n",
       "      <td>LZp4UX5zK3e-c5ZGSeo3kA</td>\n",
       "      <td>1</td>\n",
       "      <td>Terrible. Dry corn bread. Rib tips were all fa...</td>\n",
       "      <td>3</td>\n",
       "      <td>msQe1u7Z_XuqjGoqhB0J5g</td>\n",
       "    </tr>\n",
       "    <tr>\n",
       "      <th>3</th>\n",
       "      <td>3</td>\n",
       "      <td>elqbBhBfElMNSrjFqW3now</td>\n",
       "      <td>0</td>\n",
       "      <td>2011-02-25</td>\n",
       "      <td>0</td>\n",
       "      <td>Er4NBWCmCD4nM8_p1GRdow</td>\n",
       "      <td>2</td>\n",
       "      <td>Back in 2005-2007 this place was my FAVORITE t...</td>\n",
       "      <td>2</td>\n",
       "      <td>msQe1u7Z_XuqjGoqhB0J5g</td>\n",
       "    </tr>\n",
       "    <tr>\n",
       "      <th>4</th>\n",
       "      <td>4</td>\n",
       "      <td>Ums3gaP2qM3W1XcA5r6SsQ</td>\n",
       "      <td>0</td>\n",
       "      <td>2014-09-05</td>\n",
       "      <td>0</td>\n",
       "      <td>jsDu6QEJHbwP2Blom1PLCA</td>\n",
       "      <td>5</td>\n",
       "      <td>Delicious healthy food. The steak is amazing. ...</td>\n",
       "      <td>0</td>\n",
       "      <td>msQe1u7Z_XuqjGoqhB0J5g</td>\n",
       "    </tr>\n",
       "  </tbody>\n",
       "</table>\n",
       "</div>"
      ],
      "text/plain": [
       "   index             business_id  cool        date  funny  \\\n",
       "0      0  iCQpiavjjPzJ5_3gPD5Ebg     0  2011-02-25      0   \n",
       "1      1  pomGBqfbxcqPv14c3XH-ZQ     0  2012-11-13      0   \n",
       "2      2  jtQARsP6P-LbkyjbO1qNGg     1  2014-10-23      1   \n",
       "3      3  elqbBhBfElMNSrjFqW3now     0  2011-02-25      0   \n",
       "4      4  Ums3gaP2qM3W1XcA5r6SsQ     0  2014-09-05      0   \n",
       "\n",
       "                review_id  stars  \\\n",
       "0  x7mDIiDB3jEiPGPHOmDzyw      2   \n",
       "1  dDl8zu1vWPdKGihJrwQbpw      5   \n",
       "2  LZp4UX5zK3e-c5ZGSeo3kA      1   \n",
       "3  Er4NBWCmCD4nM8_p1GRdow      2   \n",
       "4  jsDu6QEJHbwP2Blom1PLCA      5   \n",
       "\n",
       "                                                text  useful  \\\n",
       "0  The pizza was okay. Not the best I've had. I p...       0   \n",
       "1  I love this place! My fiance And I go here atl...       0   \n",
       "2  Terrible. Dry corn bread. Rib tips were all fa...       3   \n",
       "3  Back in 2005-2007 this place was my FAVORITE t...       2   \n",
       "4  Delicious healthy food. The steak is amazing. ...       0   \n",
       "\n",
       "                  user_id  \n",
       "0  msQe1u7Z_XuqjGoqhB0J5g  \n",
       "1  msQe1u7Z_XuqjGoqhB0J5g  \n",
       "2  msQe1u7Z_XuqjGoqhB0J5g  \n",
       "3  msQe1u7Z_XuqjGoqhB0J5g  \n",
       "4  msQe1u7Z_XuqjGoqhB0J5g  "
      ]
     },
     "execution_count": 11,
     "metadata": {},
     "output_type": "execute_result"
    }
   ],
   "source": [
    "# user_restaurant_reviews = restuarant_review_data.groupby('user_id')['text'].apply(lambda x: x.join(' '))\n",
    "restuarant_review_data.head()"
   ]
  },
  {
   "cell_type": "code",
   "execution_count": 39,
   "metadata": {
    "collapsed": true
   },
   "outputs": [],
   "source": [
    "user_restaurant_reviews = pd.DataFrame(columns=['user_id', 'reviews', 'review_ids', 'avg_stars', 'avg_useful'])"
   ]
  },
  {
   "cell_type": "code",
   "execution_count": 25,
   "metadata": {},
   "outputs": [
    {
     "data": {
      "text/plain": [
       "3654797"
      ]
     },
     "execution_count": 25,
     "metadata": {},
     "output_type": "execute_result"
    }
   ],
   "source": [
    "len(restuarant_review_data)"
   ]
  },
  {
   "cell_type": "code",
   "execution_count": 29,
   "metadata": {
    "collapsed": true
   },
   "outputs": [],
   "source": [
    "relevant_reviews = restuarant_review_data[restuarant_review_data['user_id'].groupby(restuarant_review_data['user_id']).transform('size')>=10]"
   ]
  },
  {
   "cell_type": "code",
   "execution_count": 31,
   "metadata": {},
   "outputs": [
    {
     "data": {
      "text/plain": [
       "46.27698884507129"
      ]
     },
     "execution_count": 31,
     "metadata": {},
     "output_type": "execute_result"
    }
   ],
   "source": [
    "# Percentage of Relevant User Review Rows\n",
    "\n",
    "len(relevant_reviews)/len(restuarant_review_data)*100"
   ]
  },
  {
   "cell_type": "code",
   "execution_count": 26,
   "metadata": {
    "collapsed": true
   },
   "outputs": [],
   "source": [
    "user_ids = set(list(restuarant_review_data[restuarant_review_data['user_id'].groupby(restuarant_review_data['user_id']).transform('size')>=10].user_id))"
   ]
  },
  {
   "cell_type": "code",
   "execution_count": 23,
   "metadata": {
    "collapsed": true
   },
   "outputs": [],
   "source": [
    "# user_groups\n",
    "# for user_group in user_groups:\n",
    "#     size_of_user_group = user_group.index\n",
    "#     print(size_of_user_group)\n",
    "#     break"
   ]
  },
  {
   "cell_type": "code",
   "execution_count": 28,
   "metadata": {},
   "outputs": [
    {
     "data": {
      "text/html": [
       "<div>\n",
       "<style scoped>\n",
       "    .dataframe tbody tr th:only-of-type {\n",
       "        vertical-align: middle;\n",
       "    }\n",
       "\n",
       "    .dataframe tbody tr th {\n",
       "        vertical-align: top;\n",
       "    }\n",
       "\n",
       "    .dataframe thead th {\n",
       "        text-align: right;\n",
       "    }\n",
       "</style>\n",
       "<table border=\"1\" class=\"dataframe\">\n",
       "  <thead>\n",
       "    <tr style=\"text-align: right;\">\n",
       "      <th></th>\n",
       "      <th>user_id</th>\n",
       "      <th>reviews</th>\n",
       "      <th>review_ids</th>\n",
       "      <th>avg_stars</th>\n",
       "      <th>avg_useful</th>\n",
       "    </tr>\n",
       "  </thead>\n",
       "  <tbody>\n",
       "  </tbody>\n",
       "</table>\n",
       "</div>"
      ],
      "text/plain": [
       "Empty DataFrame\n",
       "Columns: [user_id, reviews, review_ids, avg_stars, avg_useful]\n",
       "Index: []"
      ]
     },
     "execution_count": 28,
     "metadata": {},
     "output_type": "execute_result"
    }
   ],
   "source": [
    "user_restaurant_reviews"
   ]
  },
  {
   "cell_type": "code",
   "execution_count": 13,
   "metadata": {
    "collapsed": true
   },
   "outputs": [],
   "source": [
    "# user_ids = set(list(restuarant_review_data.user_id))"
   ]
  },
  {
   "cell_type": "code",
   "execution_count": 27,
   "metadata": {},
   "outputs": [
    {
     "name": "stdout",
     "output_type": "stream",
     "text": [
      "64410\n"
     ]
    }
   ],
   "source": [
    "no_of_users = len(user_ids)\n",
    "print (no_of_users)"
   ]
  },
  {
   "cell_type": "code",
   "execution_count": 41,
   "metadata": {},
   "outputs": [
    {
     "name": "stdout",
     "output_type": "stream",
     "text": [
      "completed 500\n",
      "completed 1000\n",
      "completed 1500\n",
      "completed 2000\n",
      "completed 2500\n",
      "completed 3000\n",
      "completed 3500\n",
      "completed 4000\n",
      "completed 4500\n",
      "completed 5000\n",
      "completed 5500\n",
      "completed 6000\n",
      "completed 6500\n",
      "completed 7000\n",
      "completed 7500\n",
      "completed 8000\n",
      "completed 8500\n",
      "completed 9000\n",
      "completed 9500\n",
      "completed 10000\n",
      "completed 10500\n",
      "completed 11000\n",
      "completed 11500\n",
      "completed 12000\n",
      "completed 12500\n",
      "completed 13000\n",
      "completed 13500\n",
      "completed 14000\n",
      "completed 14500\n",
      "completed 15000\n",
      "completed 15500\n",
      "completed 16000\n",
      "completed 16500\n",
      "completed 17000\n",
      "completed 17500\n",
      "completed 18000\n",
      "completed 18500\n",
      "completed 19000\n",
      "completed 19500\n",
      "completed 20000\n",
      "completed 20500\n",
      "completed 21000\n",
      "completed 21500\n",
      "completed 22000\n",
      "completed 22500\n",
      "completed 23000\n",
      "completed 23500\n",
      "completed 24000\n",
      "completed 24500\n",
      "completed 25000\n",
      "completed 25500\n",
      "completed 26000\n",
      "completed 26500\n",
      "completed 27000\n",
      "completed 27500\n",
      "completed 28000\n",
      "completed 28500\n",
      "completed 29000\n",
      "completed 29500\n",
      "completed 30000\n",
      "completed 30500\n",
      "completed 31000\n",
      "completed 31500\n",
      "completed 32000\n",
      "completed 32500\n",
      "completed 33000\n",
      "completed 33500\n",
      "completed 34000\n",
      "completed 34500\n",
      "completed 35000\n",
      "completed 35500\n",
      "completed 36000\n",
      "completed 36500\n",
      "completed 37000\n",
      "completed 37500\n",
      "completed 38000\n",
      "completed 38500\n",
      "completed 39000\n",
      "completed 39500\n",
      "completed 40000\n",
      "completed 40500\n",
      "completed 41000\n",
      "completed 41500\n",
      "completed 42000\n",
      "completed 42500\n",
      "completed 43000\n",
      "completed 43500\n",
      "completed 44000\n",
      "completed 44500\n",
      "completed 45000\n",
      "completed 45500\n",
      "completed 46000\n",
      "completed 46500\n",
      "completed 47000\n",
      "completed 47500\n",
      "completed 48000\n",
      "completed 48500\n",
      "completed 49000\n",
      "completed 49500\n",
      "completed 50000\n",
      "completed 50500\n",
      "completed 51000\n",
      "completed 51500\n",
      "completed 52000\n",
      "completed 52500\n",
      "completed 53000\n",
      "completed 53500\n",
      "completed 54000\n",
      "completed 54500\n",
      "completed 55000\n",
      "completed 55500\n",
      "completed 56000\n",
      "completed 56500\n",
      "completed 57000\n",
      "completed 57500\n",
      "completed 58000\n",
      "completed 58500\n",
      "completed 59000\n",
      "completed 59500\n",
      "completed 60000\n",
      "completed 60500\n",
      "completed 61000\n",
      "completed 61500\n",
      "completed 62000\n",
      "completed 62500\n",
      "completed 63000\n",
      "completed 63500\n",
      "completed 64000\n"
     ]
    }
   ],
   "source": [
    "user_reviews_list = []\n",
    "cnt = 0\n",
    "for user_id in user_ids:\n",
    "    rows = relevant_reviews[relevant_reviews.user_id == user_id]\n",
    "    no_of_reviews_for_this_user = len(rows)\n",
    "    reviews = ' '.join(rows.text)\n",
    "    review_ids = list(rows.review_id)\n",
    "    avg_stars = sum(rows.stars) / no_of_reviews_for_this_user\n",
    "    avg_useful = sum(rows.useful) / no_of_reviews_for_this_user\n",
    "    user_reviews_list.append(reviews)\n",
    "    user_restaurant_reviews.loc[cnt] = [user_id, reviews, review_ids, avg_stars, avg_useful]    \n",
    "    cnt = cnt + 1\n",
    "    if cnt % 500 == 0:\n",
    "        print ('completed ' + str(cnt))"
   ]
  },
  {
   "cell_type": "code",
   "execution_count": 42,
   "metadata": {},
   "outputs": [
    {
     "data": {
      "text/html": [
       "<div>\n",
       "<style scoped>\n",
       "    .dataframe tbody tr th:only-of-type {\n",
       "        vertical-align: middle;\n",
       "    }\n",
       "\n",
       "    .dataframe tbody tr th {\n",
       "        vertical-align: top;\n",
       "    }\n",
       "\n",
       "    .dataframe thead th {\n",
       "        text-align: right;\n",
       "    }\n",
       "</style>\n",
       "<table border=\"1\" class=\"dataframe\">\n",
       "  <thead>\n",
       "    <tr style=\"text-align: right;\">\n",
       "      <th></th>\n",
       "      <th>user_id</th>\n",
       "      <th>reviews</th>\n",
       "      <th>review_ids</th>\n",
       "      <th>avg_stars</th>\n",
       "      <th>avg_useful</th>\n",
       "    </tr>\n",
       "  </thead>\n",
       "  <tbody>\n",
       "    <tr>\n",
       "      <th>0</th>\n",
       "      <td>79zwPS4BKiYbaCTjcjTPng</td>\n",
       "      <td>Ate here on Sunday at 3pm with my daughter and...</td>\n",
       "      <td>[vC16EzYAGbpwlD_BYsApYA, Mbm5Ukg8CQmTUgImINt6h...</td>\n",
       "      <td>3.333333</td>\n",
       "      <td>0.083333</td>\n",
       "    </tr>\n",
       "    <tr>\n",
       "      <th>1</th>\n",
       "      <td>Y7019L7fz3l156_AICqhDg</td>\n",
       "      <td>We wanted to take advantage of their happy hou...</td>\n",
       "      <td>[RmZGikoPmVQ0Rf_CrhcTTg, MFkKYDmYZkCDjZS7Wic6b...</td>\n",
       "      <td>3.210526</td>\n",
       "      <td>0.631579</td>\n",
       "    </tr>\n",
       "    <tr>\n",
       "      <th>2</th>\n",
       "      <td>REigeuE57-4ZYneT7_ADpA</td>\n",
       "      <td>Complimentary:\\nSalad appetizer - very good\\nN...</td>\n",
       "      <td>[i0oLkJKc8PaZgT27LW0uVw, fJ_3iNXd_6pFGSJZwkx9U...</td>\n",
       "      <td>3.617647</td>\n",
       "      <td>0.264706</td>\n",
       "    </tr>\n",
       "    <tr>\n",
       "      <th>3</th>\n",
       "      <td>3T0UkEcsc_RNKrQVwG8gyQ</td>\n",
       "      <td>A world-class addition to the Charlotte restau...</td>\n",
       "      <td>[MCxtRMb9Nsgym61OTipwkQ, b2WOanISecyKa4r_IiasB...</td>\n",
       "      <td>3.200000</td>\n",
       "      <td>2.600000</td>\n",
       "    </tr>\n",
       "    <tr>\n",
       "      <th>4</th>\n",
       "      <td>wirvylhlC43_ACfKpUDYYw</td>\n",
       "      <td>Never failed my tummy!! When I am very hungry ...</td>\n",
       "      <td>[qvewfaKNA4u0NphupttaUA, a_BKPLCNu_vQXCwyXYud8...</td>\n",
       "      <td>3.300000</td>\n",
       "      <td>0.000000</td>\n",
       "    </tr>\n",
       "  </tbody>\n",
       "</table>\n",
       "</div>"
      ],
      "text/plain": [
       "                  user_id                                            reviews  \\\n",
       "0  79zwPS4BKiYbaCTjcjTPng  Ate here on Sunday at 3pm with my daughter and...   \n",
       "1  Y7019L7fz3l156_AICqhDg  We wanted to take advantage of their happy hou...   \n",
       "2  REigeuE57-4ZYneT7_ADpA  Complimentary:\\nSalad appetizer - very good\\nN...   \n",
       "3  3T0UkEcsc_RNKrQVwG8gyQ  A world-class addition to the Charlotte restau...   \n",
       "4  wirvylhlC43_ACfKpUDYYw  Never failed my tummy!! When I am very hungry ...   \n",
       "\n",
       "                                          review_ids  avg_stars  avg_useful  \n",
       "0  [vC16EzYAGbpwlD_BYsApYA, Mbm5Ukg8CQmTUgImINt6h...   3.333333    0.083333  \n",
       "1  [RmZGikoPmVQ0Rf_CrhcTTg, MFkKYDmYZkCDjZS7Wic6b...   3.210526    0.631579  \n",
       "2  [i0oLkJKc8PaZgT27LW0uVw, fJ_3iNXd_6pFGSJZwkx9U...   3.617647    0.264706  \n",
       "3  [MCxtRMb9Nsgym61OTipwkQ, b2WOanISecyKa4r_IiasB...   3.200000    2.600000  \n",
       "4  [qvewfaKNA4u0NphupttaUA, a_BKPLCNu_vQXCwyXYud8...   3.300000    0.000000  "
      ]
     },
     "execution_count": 42,
     "metadata": {},
     "output_type": "execute_result"
    }
   ],
   "source": [
    "user_restaurant_reviews.head()"
   ]
  },
  {
   "cell_type": "code",
   "execution_count": 54,
   "metadata": {},
   "outputs": [
    {
     "data": {
      "text/plain": [
       "64410"
      ]
     },
     "execution_count": 54,
     "metadata": {},
     "output_type": "execute_result"
    }
   ],
   "source": [
    "len(user_restaurant_reviews)"
   ]
  },
  {
   "cell_type": "code",
   "execution_count": 84,
   "metadata": {},
   "outputs": [],
   "source": [
    "# user_reviews_list[:2]"
   ]
  },
  {
   "cell_type": "code",
   "execution_count": 47,
   "metadata": {
    "collapsed": true
   },
   "outputs": [],
   "source": [
    "wnl = WordNetLemmatizer()\n",
    "\n",
    "\n",
    "class LemmaTokenizer(object):\n",
    "    def __init__(self):\n",
    "        self.wnl = WordNetLemmatizer()\n",
    "    def __call__(self, articles):\n",
    "        return [self.wnl.lemmatize(t) for t in word_tokenize(articles)]"
   ]
  },
  {
   "cell_type": "code",
   "execution_count": 49,
   "metadata": {
    "collapsed": true
   },
   "outputs": [],
   "source": [
    "PUNCT = list(string.punctuation)"
   ]
  },
  {
   "cell_type": "code",
   "execution_count": null,
   "metadata": {},
   "outputs": [
    {
     "name": "stdout",
     "output_type": "stream",
     "text": [
      "Vectorization done.\n",
      "Fit transform done.\n",
      "Corpus created.\n"
     ]
    }
   ],
   "source": [
    "vectorizer_1 = CountVectorizer(stop_words =\n",
    "                     ENGLISH_STOP_WORDS.union(PUNCT),\n",
    "                     ngram_range = (1,2),\n",
    "                     max_df = 0.7, min_df = 30, tokenizer = LemmaTokenizer())\n",
    "\n",
    "print ('Vectorization done.')\n",
    "\n",
    "vectorized_user_reviews_1 = vectorizer_1.fit_transform(user_reviews_list)\n",
    "feature_names_user_1 = vectorizer_1.get_feature_names()\n",
    "\n",
    "print ('Fit transform done.')\n",
    "\n",
    "\n",
    "corpus_user_reviews_1 = matutils.Sparse2Corpus(vectorized_user_reviews_1.transpose())\n",
    "\n",
    "print ('Corpus created.')\n",
    "\n",
    "id2word = {identifier: word for word, identifier in vectorizer_1.vocabulary_.items()}\n",
    "user_reviews_lda_1 = models.LdaModel(corpus=corpus_user_reviews_1, num_topics=10, minimum_probability=0.03, id2word=id2word, passes=10)\n",
    "\n",
    "print ('LDA done')\n",
    "\n",
    "user_reviews_lda_1.print_topics()"
   ]
  },
  {
   "cell_type": "code",
   "execution_count": 62,
   "metadata": {},
   "outputs": [
    {
     "data": {
      "text/plain": [
       "['!',\n",
       " '\"',\n",
       " '#',\n",
       " '$',\n",
       " '%',\n",
       " '&',\n",
       " \"'\",\n",
       " '(',\n",
       " ')',\n",
       " '*',\n",
       " '+',\n",
       " ',',\n",
       " '-',\n",
       " '.',\n",
       " '/',\n",
       " ':',\n",
       " ';',\n",
       " '<',\n",
       " '=',\n",
       " '>',\n",
       " '?',\n",
       " '@',\n",
       " '[',\n",
       " '\\\\',\n",
       " ']',\n",
       " '^',\n",
       " '_',\n",
       " '`',\n",
       " '{',\n",
       " '|',\n",
       " '}',\n",
       " '~']"
      ]
     },
     "execution_count": 62,
     "metadata": {},
     "output_type": "execute_result"
    }
   ],
   "source": [
    "PUNCT"
   ]
  },
  {
   "cell_type": "code",
   "execution_count": 65,
   "metadata": {
    "collapsed": true
   },
   "outputs": [],
   "source": [
    "# feature_names_user_1"
   ]
  },
  {
   "cell_type": "code",
   "execution_count": 64,
   "metadata": {},
   "outputs": [
    {
     "data": {
      "text/plain": [
       "[(0,\n",
       "  '0.005*\"server\" + 0.004*\"minute\" + 0.004*\"said\" + 0.004*\"asked\" + 0.004*\"``\" + 0.004*\"customer\" + 0.004*\"\\'\\'\" + 0.003*\"took\" + 0.003*\"2\" + 0.003*\"told\"'),\n",
       " (1,\n",
       "  '0.008*\"\\'\\'\" + 0.008*\"``\" + 0.005*\"\\'re\" + 0.004*\"--\" + 0.004*\"\\'d\" + 0.004*\"\\'ll\" + 0.003*\"think\" + 0.002*\"bit\" + 0.002*\"bar\" + 0.002*\"doe\"'),\n",
       " (2,\n",
       "  '0.008*\"bar\" + 0.006*\"beer\" + 0.005*\"amazing\" + 0.005*\"happy\" + 0.004*\"friend\" + 0.004*\"hour\" + 0.004*\"spot\" + 0.004*\"option\" + 0.004*\"wine\" + 0.003*\"favorite\"'),\n",
       " (3,\n",
       "  '0.037*\"le\" + 0.026*\"et\" + 0.020*\"la\" + 0.015*\"à\" + 0.013*\"pour\" + 0.011*\"est\" + 0.010*\"pa\" + 0.010*\"que\" + 0.009*\"je\" + 0.009*\"une\"'),\n",
       " (4,\n",
       "  '0.007*\"pizza\" + 0.005*\"excellent\" + 0.005*\"burger\" + 0.004*\"wife\" + 0.004*\"quality\" + 0.004*\"star\" + 0.004*\"location\" + 0.003*\"sandwich\" + 0.003*\"area\" + 0.003*\"atmosphere\"'),\n",
       " (5,\n",
       "  '0.011*\"vega\" + 0.005*\"buffet\" + 0.004*\"la\" + 0.004*\"strip\" + 0.003*\"la vega\" + 0.003*\"sushi\" + 0.003*\"flavor\" + 0.003*\"rice\" + 0.003*\"favorite\" + 0.003*\"meat\"'),\n",
       " (6,\n",
       "  '0.008*\"dish\" + 0.005*\"dessert\" + 0.004*\"flavor\" + 0.004*\"served\" + 0.003*\"bread\" + 0.003*\"cheese\" + 0.003*\"steak\" + 0.003*\"sweet\" + 0.003*\"wine\" + 0.003*\"cooked\"'),\n",
       " (7,\n",
       "  '0.007*\"cheese\" + 0.005*\"fry\" + 0.004*\"sandwich\" + 0.004*\"pizza\" + 0.004*\"burger\" + 0.004*\"flavor\" + 0.003*\"hot\" + 0.003*\"potato\" + 0.003*\"rice\" + 0.003*\"fried\"'),\n",
       " (8,\n",
       "  '0.007*\"dish\" + 0.006*\"rice\" + 0.005*\"noodle\" + 0.005*\"soup\" + 0.004*\"beef\" + 0.004*\"taste\" + 0.004*\"meat\" + 0.003*\"pork\" + 0.003*\"quite\" + 0.003*\"fried\"'),\n",
       " (9,\n",
       "  '0.005*\"wa n\\'t\" + 0.005*\"amazing\" + 0.004*\"friend\" + 0.004*\"\\'re\" + 0.004*\"think\" + 0.004*\"recommend\" + 0.004*\"super\" + 0.003*\"overall\" + 0.003*\"sushi\" + 0.003*\"tried\"')]"
      ]
     },
     "execution_count": 64,
     "metadata": {},
     "output_type": "execute_result"
    }
   ],
   "source": [
    "user_reviews_lda_1"
   ]
  },
  {
   "cell_type": "markdown",
   "metadata": {},
   "source": [
    "[(0,\n",
    "  '0.005*\"server\" + 0.004*\"minute\" + 0.004*\"said\" + 0.004*\"asked\" + 0.004*\"customer\" + 0.003*\"took\" + 0.003*\"2\" + 0.003*\"told\"'), - CUSTOMER SERVICE\n",
    " (1,\n",
    "  0.005*\"\\'re\" + 0.004*\"\\'d\" + 0.004*\"\\'ll\" + 0.003*\"think\" + 0.002*\"bit\" + 0.002*\"bar\" + 0.002*\"doe\"'),\n",
    " (2,\n",
    "  '0.008*\"bar\" + 0.006*\"beer\" + 0.005*\"amazing\" + 0.005*\"happy\" + 0.004*\"friend\" + 0.004*\"hour\" + 0.004*\"spot\" + 0.004*\"option\" + 0.004*\"wine\" + 0.003*\"favorite\"'), - BAR\n",
    " (3,\n",
    "  '0.037*\"le\" + 0.026*\"et\" + 0.020*\"la\" + 0.015*\"à\" + 0.013*\"pour\" + 0.011*\"est\" + 0.010*\"pa\" + 0.010*\"que\" + 0.009*\"je\" + 0.009*\"une\"'),\n",
    " (4,\n",
    "  '0.007*\"pizza\" + 0.005*\"excellent\" + 0.005*\"burger\" + 0.004*\"wife\" + 0.004*\"quality\" + 0.004*\"star\" + 0.004*\"location\" + 0.003*\"sandwich\" + 0.003*\"area\" + 0.003*\"atmosphere\"'), - LOCATION, AMBIENCE\n",
    " (5,\n",
    "  '0.011*\"vega\" + 0.005*\"buffet\" + 0.004*\"la\" + 0.004*\"strip\" + 0.003*\"la vega\" + 0.003*\"sushi\" + 0.003*\"flavor\" + 0.003*\"rice\" + 0.003*\"favorite\" + 0.003*\"meat\"'), - FLAVOR OF FOOD\n",
    " (6,\n",
    "  '0.008*\"dish\" + 0.005*\"dessert\" + 0.004*\"flavor\" + 0.004*\"served\" + 0.003*\"bread\" + 0.003*\"cheese\" + 0.003*\"steak\" + 0.003*\"sweet\" + 0.003*\"wine\" + 0.003*\"cooked\"'), - DISHES SERVED\n",
    " (7,\n",
    "  '0.007*\"cheese\" + 0.005*\"fry\" + 0.004*\"sandwich\" + 0.004*\"pizza\" + 0.004*\"burger\" + 0.004*\"flavor\" + 0.003*\"hot\" + 0.003*\"potato\" + 0.003*\"rice\" + 0.003*\"fried\"'),  - FAST FOOD\n",
    " (8,\n",
    "  '0.007*\"dish\" + 0.006*\"rice\" + 0.005*\"noodle\" + 0.005*\"soup\" + 0.004*\"beef\" + 0.004*\"taste\" + 0.004*\"meat\" + 0.003*\"pork\" + 0.003*\"quite\" + 0.003*\"fried\"'),  - ASIAN FOOD\n",
    " (9,\n",
    "  '0.005*\"wa n\\'t\" + 0.005*\"amazing\" + 0.004*\"friend\" + 0.004*\"\\'re\" + 0.004*\"think\" + 0.004*\"recommend\" + 0.004*\"super\" + 0.003*\"overall\" + 0.003*\"sushi\" + 0.003*\"tried\"')] - OVERALL"
   ]
  },
  {
   "cell_type": "code",
   "execution_count": 82,
   "metadata": {
    "collapsed": true
   },
   "outputs": [],
   "source": [
    "topic_labels = ['customer service', 'none', 'bar', 'none', 'location & ambience', 'flavor of food', 'dishes served', 'fast food', 'asian food', 'overall']"
   ]
  },
  {
   "cell_type": "code",
   "execution_count": 66,
   "metadata": {
    "collapsed": true
   },
   "outputs": [],
   "source": [
    "EXTRA_PUNCT = [\"'\", \"``\", \"\\'\"]\n",
    "USELESS_WORDS = [\"'ll\", \"'re\", \"'d\", \"\\'re\", \"\\'d\", \"\\'ll\", \"le\", \"et\", \"la\", \"à\", \"est\", \"pa\", \"que\", \"je\", \"une\", \"wa\", \"n\\'t\"]"
   ]
  },
  {
   "cell_type": "code",
   "execution_count": null,
   "metadata": {},
   "outputs": [
    {
     "name": "stdout",
     "output_type": "stream",
     "text": [
      "Vectorizer created done.\n"
     ]
    }
   ],
   "source": [
    "vectorizer_2 = CountVectorizer(stop_words =\n",
    "                     ENGLISH_STOP_WORDS.union(PUNCT).union(EXTRA_PUNCT).union(USELESS_WORDS),\n",
    "                     ngram_range = (1,2),\n",
    "                     max_df = 0.7, min_df = 30, tokenizer = LemmaTokenizer())\n",
    "\n",
    "print ('Vectorizer created done.')\n",
    "\n",
    "\n"
   ]
  },
  {
   "cell_type": "code",
   "execution_count": 75,
   "metadata": {},
   "outputs": [],
   "source": [
    "# vectorizer_2.stop_words"
   ]
  },
  {
   "cell_type": "code",
   "execution_count": 78,
   "metadata": {},
   "outputs": [],
   "source": [
    "# vectorized_user_reviews_2 = vectorizer_2.fit_transform(user_reviews_list)\n",
    "# feature_names_user_2 = vectorizer_2.get_feature_names()\n",
    "\n",
    "# print ('Fit transform done.')"
   ]
  },
  {
   "cell_type": "code",
   "execution_count": 77,
   "metadata": {},
   "outputs": [],
   "source": [
    "# vectorized_user_reviews_2"
   ]
  },
  {
   "cell_type": "code",
   "execution_count": null,
   "metadata": {
    "collapsed": true
   },
   "outputs": [],
   "source": [
    "corpus_user_reviews_2 = matutils.Sparse2Corpus(vectorized_user_reviews_2.transpose())\n",
    "\n",
    "print ('Corpus created.')\n",
    "\n",
    "id2word = {identifier: word for word, identifier in vectorizer_2.vocabulary_.items()}\n",
    "user_reviews_lda_2 = models.LdaModel(corpus=corpus_user_reviews_2, num_topics=10, minimum_probability=0.03, id2word=id2word, passes=10)\n",
    "\n",
    "print ('LDA done')\n",
    "\n",
    "user_reviews_lda_2.print_topics()"
   ]
  },
  {
   "cell_type": "code",
   "execution_count": 76,
   "metadata": {
    "collapsed": true
   },
   "outputs": [],
   "source": [
    "from sklearn.preprocessing import StandardScaler\n",
    "scaler = StandardScaler()"
   ]
  },
  {
   "cell_type": "code",
   "execution_count": 79,
   "metadata": {},
   "outputs": [
    {
     "ename": "NameError",
     "evalue": "name 'category_array' is not defined",
     "output_type": "error",
     "traceback": [
      "\u001b[1;31m---------------------------------------------------------------------------\u001b[0m",
      "\u001b[1;31mNameError\u001b[0m                                 Traceback (most recent call last)",
      "\u001b[1;32m<ipython-input-79-a80fae0c5074>\u001b[0m in \u001b[0;36m<module>\u001b[1;34m()\u001b[0m\n\u001b[0;32m      5\u001b[0m \u001b[0mcsc2_corpus\u001b[0m \u001b[1;33m=\u001b[0m \u001b[0mmatutils\u001b[0m\u001b[1;33m.\u001b[0m\u001b[0mcorpus2csc\u001b[0m\u001b[1;33m(\u001b[0m\u001b[0mlda_corpus_1\u001b[0m\u001b[1;33m)\u001b[0m\u001b[1;33m.\u001b[0m\u001b[0mtoarray\u001b[0m\u001b[1;33m(\u001b[0m\u001b[1;33m)\u001b[0m\u001b[1;33m.\u001b[0m\u001b[0mtranspose\u001b[0m\u001b[1;33m(\u001b[0m\u001b[1;33m)\u001b[0m\u001b[1;33m\u001b[0m\u001b[0m\n\u001b[0;32m      6\u001b[0m \u001b[1;31m# appended values from categorical features to my csc corpus\u001b[0m\u001b[1;33m\u001b[0m\u001b[1;33m\u001b[0m\u001b[0m\n\u001b[1;32m----> 7\u001b[1;33m \u001b[0mmodified_csc2corpus\u001b[0m \u001b[1;33m=\u001b[0m \u001b[0mnp\u001b[0m\u001b[1;33m.\u001b[0m\u001b[0mhstack\u001b[0m\u001b[1;33m(\u001b[0m\u001b[1;33m(\u001b[0m\u001b[0mcsc2_corpus\u001b[0m\u001b[1;33m,\u001b[0m \u001b[0mcategory_array\u001b[0m\u001b[1;33m)\u001b[0m\u001b[1;33m)\u001b[0m\u001b[1;33m\u001b[0m\u001b[0m\n\u001b[0m\u001b[0;32m      8\u001b[0m \u001b[1;31m# standard scaled the entire array due to the presence of the categorical features\u001b[0m\u001b[1;33m\u001b[0m\u001b[1;33m\u001b[0m\u001b[0m\n\u001b[0;32m      9\u001b[0m \u001b[0mscaled_corpus\u001b[0m \u001b[1;33m=\u001b[0m \u001b[0mscaler\u001b[0m\u001b[1;33m.\u001b[0m\u001b[0mfit_transform\u001b[0m\u001b[1;33m(\u001b[0m\u001b[0mmodified_csc2corpus\u001b[0m\u001b[1;33m)\u001b[0m\u001b[1;33m\u001b[0m\u001b[0m\n",
      "\u001b[1;31mNameError\u001b[0m: name 'category_array' is not defined"
     ]
    }
   ],
   "source": [
    "\n",
    "# pass text from corpus to my LDA model\n",
    "lda_corpus_1 = user_reviews_lda_1[corpus_user_reviews_1]\n",
    "# changed type of corpus to csc\n",
    "csc2_corpus = matutils.corpus2csc(lda_corpus_1).toarray().transpose()\n",
    "# appended values from categorical features to my csc corpus\n",
    "modified_csc2corpus = np.hstack((csc2_corpus, category_array))\n",
    "# standard scaled the entire array due to the presence of the categorical features\n",
    "scaled_corpus = scaler.fit_transform(modified_csc2corpus)"
   ]
  },
  {
   "cell_type": "code",
   "execution_count": 80,
   "metadata": {
    "collapsed": true
   },
   "outputs": [],
   "source": [
    "scaled_corpus = scaler.fit_transform(csc2_corpus)"
   ]
  },
  {
   "cell_type": "code",
   "execution_count": 81,
   "metadata": {},
   "outputs": [
    {
     "data": {
      "text/plain": [
       "array([[ 2.1038652 , -0.3108877 , -0.67270138, ...,  0.92950857,\n",
       "        -0.34257105, -1.08844395],\n",
       "       [ 1.16133097, -0.87872236,  1.13167644, ...,  0.84831194,\n",
       "        -0.59502574, -1.08844395],\n",
       "       [-1.02191027, -0.87872236, -0.94815191, ..., -0.40684996,\n",
       "         3.79392082, -0.37468799],\n",
       "       ...,\n",
       "       [-1.02191027, -0.05164344, -0.62029238, ...,  2.27681498,\n",
       "        -0.59502574, -1.08844395],\n",
       "       [ 1.6548947 , -0.87872236, -0.94815191, ..., -0.95536032,\n",
       "        -0.59502574,  0.38672352],\n",
       "       [-1.02191027, -0.87872236,  0.44735035, ...,  0.07214417,\n",
       "        -0.26361071,  2.10550835]])"
      ]
     },
     "execution_count": 81,
     "metadata": {},
     "output_type": "execute_result"
    }
   ],
   "source": [
    "scaled_corpus"
   ]
  },
  {
   "cell_type": "code",
   "execution_count": 83,
   "metadata": {},
   "outputs": [
    {
     "data": {
      "text/html": [
       "<div>\n",
       "<style scoped>\n",
       "    .dataframe tbody tr th:only-of-type {\n",
       "        vertical-align: middle;\n",
       "    }\n",
       "\n",
       "    .dataframe tbody tr th {\n",
       "        vertical-align: top;\n",
       "    }\n",
       "\n",
       "    .dataframe thead th {\n",
       "        text-align: right;\n",
       "    }\n",
       "</style>\n",
       "<table border=\"1\" class=\"dataframe\">\n",
       "  <thead>\n",
       "    <tr style=\"text-align: right;\">\n",
       "      <th></th>\n",
       "      <th>customer service</th>\n",
       "      <th>none</th>\n",
       "      <th>bar</th>\n",
       "      <th>location &amp; ambience</th>\n",
       "      <th>flavor of food</th>\n",
       "      <th>dishes served</th>\n",
       "      <th>fast food</th>\n",
       "      <th>asian food</th>\n",
       "      <th>overall</th>\n",
       "    </tr>\n",
       "  </thead>\n",
       "  <tbody>\n",
       "    <tr>\n",
       "      <th>0</th>\n",
       "      <td>2.103865</td>\n",
       "      <td>-0.073027</td>\n",
       "      <td>-0.672701</td>\n",
       "      <td>-0.359825</td>\n",
       "      <td>-0.603586</td>\n",
       "      <td>-0.676167</td>\n",
       "      <td>0.929509</td>\n",
       "      <td>-0.342571</td>\n",
       "      <td>-1.088444</td>\n",
       "    </tr>\n",
       "    <tr>\n",
       "      <th>1</th>\n",
       "      <td>1.161331</td>\n",
       "      <td>-0.073027</td>\n",
       "      <td>1.131676</td>\n",
       "      <td>-0.276274</td>\n",
       "      <td>-0.603586</td>\n",
       "      <td>-0.304102</td>\n",
       "      <td>0.848312</td>\n",
       "      <td>-0.595026</td>\n",
       "      <td>-1.088444</td>\n",
       "    </tr>\n",
       "    <tr>\n",
       "      <th>2</th>\n",
       "      <td>-1.021910</td>\n",
       "      <td>-0.073027</td>\n",
       "      <td>-0.948152</td>\n",
       "      <td>-0.227499</td>\n",
       "      <td>-0.603586</td>\n",
       "      <td>1.257419</td>\n",
       "      <td>-0.406850</td>\n",
       "      <td>3.793921</td>\n",
       "      <td>-0.374688</td>\n",
       "    </tr>\n",
       "    <tr>\n",
       "      <th>3</th>\n",
       "      <td>0.918140</td>\n",
       "      <td>-0.073027</td>\n",
       "      <td>0.004389</td>\n",
       "      <td>0.403429</td>\n",
       "      <td>-0.603586</td>\n",
       "      <td>0.951429</td>\n",
       "      <td>-0.955360</td>\n",
       "      <td>-0.595026</td>\n",
       "      <td>-1.088444</td>\n",
       "    </tr>\n",
       "    <tr>\n",
       "      <th>4</th>\n",
       "      <td>0.209307</td>\n",
       "      <td>-0.073027</td>\n",
       "      <td>-0.948152</td>\n",
       "      <td>-0.638397</td>\n",
       "      <td>-0.603586</td>\n",
       "      <td>-0.676167</td>\n",
       "      <td>-0.955360</td>\n",
       "      <td>1.512181</td>\n",
       "      <td>2.733130</td>\n",
       "    </tr>\n",
       "  </tbody>\n",
       "</table>\n",
       "</div>"
      ],
      "text/plain": [
       "   customer service      none       bar  location & ambience  flavor of food  \\\n",
       "0          2.103865 -0.073027 -0.672701            -0.359825       -0.603586   \n",
       "1          1.161331 -0.073027  1.131676            -0.276274       -0.603586   \n",
       "2         -1.021910 -0.073027 -0.948152            -0.227499       -0.603586   \n",
       "3          0.918140 -0.073027  0.004389             0.403429       -0.603586   \n",
       "4          0.209307 -0.073027 -0.948152            -0.638397       -0.603586   \n",
       "\n",
       "   dishes served  fast food  asian food   overall  \n",
       "0      -0.676167   0.929509   -0.342571 -1.088444  \n",
       "1      -0.304102   0.848312   -0.595026 -1.088444  \n",
       "2       1.257419  -0.406850    3.793921 -0.374688  \n",
       "3       0.951429  -0.955360   -0.595026 -1.088444  \n",
       "4      -0.676167  -0.955360    1.512181  2.733130  "
      ]
     },
     "execution_count": 83,
     "metadata": {},
     "output_type": "execute_result"
    }
   ],
   "source": [
    "\n",
    "# user_df contained the value of each bar for each of the features in my dimensionally reduced space\n",
    "userdf_data = {label: values for label, values in zip(topic_labels, scaled_corpus.T)}\n",
    "userdf_final = pd.DataFrame(userdf_data)\n",
    "userdf_final.head()"
   ]
  },
  {
   "cell_type": "code",
   "execution_count": 86,
   "metadata": {},
   "outputs": [
    {
     "data": {
      "text/plain": [
       "64410"
      ]
     },
     "execution_count": 86,
     "metadata": {},
     "output_type": "execute_result"
    }
   ],
   "source": [
    "len(user_restaurant_reviews)"
   ]
  },
  {
   "cell_type": "code",
   "execution_count": 87,
   "metadata": {
    "collapsed": true
   },
   "outputs": [],
   "source": [
    "user_restaurant_reviews['user_interest'] = userdf_final.idxmax(axis=1).values"
   ]
  },
  {
   "cell_type": "code",
   "execution_count": 88,
   "metadata": {},
   "outputs": [
    {
     "data": {
      "text/html": [
       "<div>\n",
       "<style scoped>\n",
       "    .dataframe tbody tr th:only-of-type {\n",
       "        vertical-align: middle;\n",
       "    }\n",
       "\n",
       "    .dataframe tbody tr th {\n",
       "        vertical-align: top;\n",
       "    }\n",
       "\n",
       "    .dataframe thead th {\n",
       "        text-align: right;\n",
       "    }\n",
       "</style>\n",
       "<table border=\"1\" class=\"dataframe\">\n",
       "  <thead>\n",
       "    <tr style=\"text-align: right;\">\n",
       "      <th></th>\n",
       "      <th>user_id</th>\n",
       "      <th>reviews</th>\n",
       "      <th>review_ids</th>\n",
       "      <th>avg_stars</th>\n",
       "      <th>avg_useful</th>\n",
       "      <th>user_interest</th>\n",
       "    </tr>\n",
       "  </thead>\n",
       "  <tbody>\n",
       "    <tr>\n",
       "      <th>0</th>\n",
       "      <td>79zwPS4BKiYbaCTjcjTPng</td>\n",
       "      <td>Ate here on Sunday at 3pm with my daughter and...</td>\n",
       "      <td>[vC16EzYAGbpwlD_BYsApYA, Mbm5Ukg8CQmTUgImINt6h...</td>\n",
       "      <td>3.333333</td>\n",
       "      <td>0.083333</td>\n",
       "      <td>customer service</td>\n",
       "    </tr>\n",
       "    <tr>\n",
       "      <th>1</th>\n",
       "      <td>Y7019L7fz3l156_AICqhDg</td>\n",
       "      <td>We wanted to take advantage of their happy hou...</td>\n",
       "      <td>[RmZGikoPmVQ0Rf_CrhcTTg, MFkKYDmYZkCDjZS7Wic6b...</td>\n",
       "      <td>3.210526</td>\n",
       "      <td>0.631579</td>\n",
       "      <td>customer service</td>\n",
       "    </tr>\n",
       "    <tr>\n",
       "      <th>2</th>\n",
       "      <td>REigeuE57-4ZYneT7_ADpA</td>\n",
       "      <td>Complimentary:\\nSalad appetizer - very good\\nN...</td>\n",
       "      <td>[i0oLkJKc8PaZgT27LW0uVw, fJ_3iNXd_6pFGSJZwkx9U...</td>\n",
       "      <td>3.617647</td>\n",
       "      <td>0.264706</td>\n",
       "      <td>asian food</td>\n",
       "    </tr>\n",
       "    <tr>\n",
       "      <th>3</th>\n",
       "      <td>3T0UkEcsc_RNKrQVwG8gyQ</td>\n",
       "      <td>A world-class addition to the Charlotte restau...</td>\n",
       "      <td>[MCxtRMb9Nsgym61OTipwkQ, b2WOanISecyKa4r_IiasB...</td>\n",
       "      <td>3.200000</td>\n",
       "      <td>2.600000</td>\n",
       "      <td>dishes served</td>\n",
       "    </tr>\n",
       "    <tr>\n",
       "      <th>4</th>\n",
       "      <td>wirvylhlC43_ACfKpUDYYw</td>\n",
       "      <td>Never failed my tummy!! When I am very hungry ...</td>\n",
       "      <td>[qvewfaKNA4u0NphupttaUA, a_BKPLCNu_vQXCwyXYud8...</td>\n",
       "      <td>3.300000</td>\n",
       "      <td>0.000000</td>\n",
       "      <td>overall</td>\n",
       "    </tr>\n",
       "  </tbody>\n",
       "</table>\n",
       "</div>"
      ],
      "text/plain": [
       "                  user_id                                            reviews  \\\n",
       "0  79zwPS4BKiYbaCTjcjTPng  Ate here on Sunday at 3pm with my daughter and...   \n",
       "1  Y7019L7fz3l156_AICqhDg  We wanted to take advantage of their happy hou...   \n",
       "2  REigeuE57-4ZYneT7_ADpA  Complimentary:\\nSalad appetizer - very good\\nN...   \n",
       "3  3T0UkEcsc_RNKrQVwG8gyQ  A world-class addition to the Charlotte restau...   \n",
       "4  wirvylhlC43_ACfKpUDYYw  Never failed my tummy!! When I am very hungry ...   \n",
       "\n",
       "                                          review_ids  avg_stars  avg_useful  \\\n",
       "0  [vC16EzYAGbpwlD_BYsApYA, Mbm5Ukg8CQmTUgImINt6h...   3.333333    0.083333   \n",
       "1  [RmZGikoPmVQ0Rf_CrhcTTg, MFkKYDmYZkCDjZS7Wic6b...   3.210526    0.631579   \n",
       "2  [i0oLkJKc8PaZgT27LW0uVw, fJ_3iNXd_6pFGSJZwkx9U...   3.617647    0.264706   \n",
       "3  [MCxtRMb9Nsgym61OTipwkQ, b2WOanISecyKa4r_IiasB...   3.200000    2.600000   \n",
       "4  [qvewfaKNA4u0NphupttaUA, a_BKPLCNu_vQXCwyXYud8...   3.300000    0.000000   \n",
       "\n",
       "      user_interest  \n",
       "0  customer service  \n",
       "1  customer service  \n",
       "2        asian food  \n",
       "3     dishes served  \n",
       "4           overall  "
      ]
     },
     "execution_count": 88,
     "metadata": {},
     "output_type": "execute_result"
    }
   ],
   "source": [
    "user_restaurant_reviews.head()"
   ]
  },
  {
   "cell_type": "code",
   "execution_count": 96,
   "metadata": {},
   "outputs": [
    {
     "data": {
      "text/plain": [
       "'Complimentary:\\nSalad appetizer - very good\\nNoodle appetizer - excellent\\n\\nVolcano roll - amazing\\nSpicy medallions - ok, a bit filling\\nSashimi - very good quality\\n\\nBlack sesame ice cream - good Lots of variety, always get lobster and chicken and duck congee which are both delicious. Came here for summerlicious. \\n\\nEscargots - in tomato sauce, was ok, I prefer it with a creamy or cheesy dressing.\\n\\nBeef carpaccio - delicately balanced flavours, delicious.\\n\\nSeafood pasta - had a good rose sauce, not too salty and not too bland, just right.\\n\\nProfiteroles were very good.\\n\\nOverall ok-good food, some dishes winning out over others. The butter chicken was good. Also had side dish of cauliflower and garlic naan, both were also good. Satisfies a butter chicken craving. Had the Buttermilk calamari which was delicious, very unique flavour with red pepper purée sauce. \\nAlso had the duck confit pizza, with sweet gingered pear and Gorgonzola cheese, perfect combination of flavours. My favourite was the prosciutto and arugula pizza, also very flavourful. \\n\\nI had the espresso cinnamon gelato which was delicious with very intense flavour. Also on special pistachio gelato which was very creamy. \\n\\nWould go here again and again. Had the eel bento box and black dragon roll. When you dine in they serve you lots of appetizers, salads etc. which are really good. Everything is top notch. I\\'ve gone here lots of times. Dumplings are good, satisfying and SUPER cheap. Not as high quality as nearby restaurant xiao long bao. Not as much soup. Their kalbi beef never fails and their sashimi is great overall. I especially like their little bowls of ramen and wontons, those are addictive, I think because of the sesame oil they use to season them.\\n\\nBeen here 3 times now and always leave satisfied. Sketchy looking, but food was good. Your typical Chinese fare. Had lobster and Peking duck, both were pretty good. Every pastry we had was delicious, especially the spicy cornbread pastry and croissant. If I lived in Montreal, would go here again and again to try all their baked goods. Calamari and fish tacos are good. Butter chicken disappointing. Had the beef burrito with everything. Pretty good, not the best that I\\'ve had, but better than fat bastard burrito. Best Mexican food in town!\\n\\nMy favourites were the Baja fish tacos, tinga tacos and churros which are made fresh!\\n\\nThe shrimp ceviche tostadas were good. Guacamole satisfied my craving. \\n\\nYummy jurrito pineapple pop. These were so-so. The juicy dumplings were not as juicy as other soup dumplings I\\'ve had. Great variety!\\n\\nFavourites:\\nUnagi (grilled eel, without rice!)\\nCoconut shrimp\\nChicken cheese skewers\\nShrimp sugarcane\\nSoup dumplings\\nEscargot\\nShrimp in blanket\\nBacon wrapped asparagus and mushroom\\nBeef short ribs\\nThousand island shrimp\\nChicken lettuce wrap\\nCalamari\\n\\nPina colada\\nDessert comes in a trio (vanilla pudding with strawberry sauce, creme brulee, refreshing orange jello with orange pieces)\\n\\nOk:\\nShrimp chow mein\\nSeaweed salad\\nHak how\\nSiu mai\\nCha siu bow\\nSashimis (salmon, tuna, whitefish, butter)\\n\\nI did not like:\\nAny of the skewers, dry\\nSpicy salmon\\nCalifornia salad (not like the picture)\\nMango salad (raw)\\nCrispy beef\\nSalmon tataki Terrific food, delicious most of the time. Wasn\\'t a fan of their boar pie. Food is ok, tortillas are great, but I had it a year ago and don\\'t think they have it on their menu anymore. The wings are dry. Appetizers were good, but the pasta dishes were salty. Had the wild boar pizza which was very good. Similar flavour profile to the duck confit pizza at pizzeria libretto. The fish tacos were also very good, fresh and nice smokey flavour to them. Their ice coffee was just right. Not too sweet. Will go back again. The quinoa onion rings are cruncy deliciousness.\\n\\nHad the beach bowl with soba noodles which had a lot of good ingredients, but the flavour was a bit on the plain side. I had to try this and the smoked meat sandwiches were ok, I think they are an acquired taste. Too salty for my liking but I can understand how some would love this place. Most delicious and succulent tandoori chicken you can get in the East end. The rice has as great light flavour to it as well. Comes with salad and bread. Ordered the tuna tostadas which were amazing, great balance of flavours. \\n\\nEverything else was too salty (the royal burger, the pasta alfredo, calamari). Their breakfast foods were ok, but was not a fan of the steak and kidney pie. I\\'ll probably try their other pies though someday. Fast service. Was not busy at 6:00pm on Friday. Had the brisket Mac n cheese which was delicious but small for $9. Also tried the calamari which was good but nothing special, the chipotle sauce was good. The fish taco was very unique, different from most, very fresh tasting. The apple maple pork belly was also a nice appetiser, again quite unique flavours that blended well. \\n\\nMy favourite was the brisket Mac n cheese. Overall a bit on the pricey side, but good for special nights out. Great deal for lunch buffet. Not spicy.\\nTandoori chicken - juicy and succulent, the best dish here\\nPaneer saag - very good\\nButter chicken - very good\\nLentils - very good\\nVeggie Pakoras - very good\\nNaan bread - very good, baked fresh\\nRice - very good\\nVanilla ice cream - very good\\nEverything else was ok.\\nMango lassi - weird taste, too sour.\\nMango beer \"Cheetah\" was ok. The chicken here was good but nothing out of the ordinary. After hearing so many rave reviews I set my hopes up high. I probably won\\'t come here again. Had chicken and beef, which was tasty. Good service. Didn\\'t have to wait too long to get a table. Never had soup dumplings before, they were very juicy and burst with flavour. Onion pancakes were so-so. Beef brisket noodle soup was also very tasty. The jerk chicken was ok, it didn\\'t stand out compared to other jerk chicken dishes I\\'ve had. The ox-tail was amazing, but this is the first time I\\'ve had it.\\n\\nCurry goat roti - had high expectations, but it disappointed. Strong gamey flavour, I\\'ve had much better curry goat dishes. Melt in your mouth goodness. Waited in line for 15 min at 9:30 am on Wednesday. Good time to go! Best xiao long bao in Toronto! I think it\\'s better than ding Tai Fung. Beef pancake was so so. But will be coming back here for the soup dumplings! Got some to go too! Very addictive. Everything here is delicious. Had the quinoa risotto, wonderful complex flavours. Been here two times for work outings and would go many more times. Very delicious and very filling. Friendly service. The lamb was delicious.'"
      ]
     },
     "execution_count": 96,
     "metadata": {},
     "output_type": "execute_result"
    }
   ],
   "source": [
    "user_restaurant_reviews[user_restaurant_reviews.user_interest=='asian food']['reviews'].values[0]"
   ]
  },
  {
   "cell_type": "code",
   "execution_count": null,
   "metadata": {
    "collapsed": true
   },
   "outputs": [],
   "source": []
  }
 ],
 "metadata": {
  "kernelspec": {
   "display_name": "Python 3",
   "language": "python",
   "name": "python3"
  },
  "language_info": {
   "codemirror_mode": {
    "name": "ipython",
    "version": 3
   },
   "file_extension": ".py",
   "mimetype": "text/x-python",
   "name": "python",
   "nbconvert_exporter": "python",
   "pygments_lexer": "ipython3",
   "version": "3.6.3"
  }
 },
 "nbformat": 4,
 "nbformat_minor": 2
}
